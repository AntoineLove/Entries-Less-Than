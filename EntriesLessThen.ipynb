{
 "cells": [
  {
   "cell_type": "markdown",
   "metadata": {},
   "source": [
    "Another homework problem where I was asked, \"Write a recursive algorithm that takes a sorted list of L integers and a number x and returns the number of entries less than or equal to x in the list.  The algorithm should run in Theta(lg n) time.\"\n",
    "\n",
    "My program relies on the fact that binary search is Theta(lg n). \n",
    "First, it searches the list for x.  After finding it, it throws away everything in the array at that index or to the left.\n",
    "Then, it searches what is left for x again.  After finding it, it throws away everything in the new list at that index or left.\n",
    "...\n",
    "In this way it exhaustively discovers a list that does not have the element in it and returns all the while the size of lists that contain only elements less than the element.  Once it finds the boundary, it has found the solution."
   ]
  },
  {
   "cell_type": "code",
   "execution_count": 1,
   "metadata": {},
   "outputs": [],
   "source": [
    "import math\n",
    "\n",
    "def EntriesLessThen( array, x ):\n",
    "    if (len(array) == 0):\n",
    "        return 0;    \n",
    "    if (len(array) == 1 and array[0] <= x):\n",
    "        return 1;\n",
    "    if (len(array) == 1):\n",
    "        return 0;\n",
    "    \n",
    "    if len(array) % 2 == 0:\n",
    "        median = math.floor(len(array)/2) \n",
    "    else:\n",
    "        median = math.ceil(len(array)/2) \n",
    "    \n",
    "    if array[median-1] <= x:\n",
    "        return EntriesLessThen(array[median:len(array)],x)+median;\n",
    "    else:\n",
    "        return EntriesLessThen(array[0:median-1],x); "
   ]
  },
  {
   "cell_type": "code",
   "execution_count": 2,
   "metadata": {},
   "outputs": [],
   "source": [
    "A = [1,2,3,4,5,6,7,8,9,10]"
   ]
  },
  {
   "cell_type": "code",
   "execution_count": 3,
   "metadata": {},
   "outputs": [
    {
     "data": {
      "text/plain": [
       "4"
      ]
     },
     "execution_count": 3,
     "metadata": {},
     "output_type": "execute_result"
    }
   ],
   "source": [
    "EntriesLessThen(A,4)"
   ]
  },
  {
   "cell_type": "code",
   "execution_count": null,
   "metadata": {},
   "outputs": [],
   "source": []
  }
 ],
 "metadata": {
  "kernelspec": {
   "display_name": "Python 3",
   "language": "python",
   "name": "python3"
  },
  "language_info": {
   "codemirror_mode": {
    "name": "ipython",
    "version": 3
   },
   "file_extension": ".py",
   "mimetype": "text/x-python",
   "name": "python",
   "nbconvert_exporter": "python",
   "pygments_lexer": "ipython3",
   "version": "3.7.4"
  }
 },
 "nbformat": 4,
 "nbformat_minor": 4
}
